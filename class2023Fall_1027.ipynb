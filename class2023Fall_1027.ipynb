{
  "nbformat": 4,
  "nbformat_minor": 0,
  "metadata": {
    "colab": {
      "provenance": [],
      "authorship_tag": "ABX9TyM41Pk3xkRk8U/tXzgzATOQ",
      "include_colab_link": true
    },
    "kernelspec": {
      "name": "python3",
      "display_name": "Python 3"
    },
    "language_info": {
      "name": "python"
    }
  },
  "cells": [
    {
      "cell_type": "markdown",
      "metadata": {
        "id": "view-in-github",
        "colab_type": "text"
      },
      "source": [
        "<a href=\"https://colab.research.google.com/github/kwb425/class2023Fall/blob/main/class2023Fall_1027.ipynb\" target=\"_parent\"><img src=\"https://colab.research.google.com/assets/colab-badge.svg\" alt=\"Open In Colab\"/></a>"
      ]
    },
    {
      "cell_type": "markdown",
      "source": [
        "## **Introduction to FastAPI for Server-Side Applications**\n",
        "\n",
        "FastAPI is a modern, fast (high-performance), web framework for building APIs with Python 3.7+ based on standard Python type hints.\n",
        "\n",
        "---\n",
        "### **1. Setting up FastAPI**\n",
        "\n",
        "To get started with FastAPI, you need to install it:\n",
        "\n",
        "```python\n",
        "!pip install fastapi[all]\n",
        "!pip install uvicorn\n",
        "```\n",
        "\n",
        "---\n",
        "### **2. Creating a Simple API with FastAPI**\n",
        "\n",
        "Let's build a simple API that returns a greeting message.\n",
        "\n",
        "```python\n",
        "from fastapi import FastAPI\n",
        "\n",
        "app = FastAPI()\n",
        "\n",
        "@app.get(\"/\")\n",
        "def read_root():\n",
        "    return {\"message\": \"Hello, World!\"}\n",
        "```\n",
        "\n",
        "---\n",
        "### **3. Running the FastAPI App**\n",
        "\n",
        "To run the FastAPI app, you need `uvicorn`. In a local environment, you'd use the terminal, but in Google Colab, you'd have to find another way because `uvicorn` runs indefinitely. Here's how you can do it:\n",
        "\n",
        "```python\n",
        "# =====================================\n",
        "# !pip install nest-asyncio\n",
        "# import nest_asyncio\n",
        "# import uvicorn\n",
        "\n",
        "# nest_asyncio.apply()\n",
        "\n",
        "# def run():\n",
        "#     uvicorn.run(app, host=\"0.0.0.0\", port=8000)\n",
        "\n",
        "# from threading import Thread\n",
        "\n",
        "# thread = Thread(target=run)\n",
        "# thread.start()\n",
        "# =====================================\n",
        "import uvicorn\n",
        "from multiprocessing import Process\n",
        "\n",
        "def run():\n",
        "    uvicorn.run(app, host=\"0.0.0.0\", port=8000)\n",
        "\n",
        "# Start FastAPI using multiprocessing\n",
        "process = Process(target=run)\n",
        "process.start()\n",
        "\n",
        "# Give the server a moment to start\n",
        "import time\n",
        "time.sleep(3)\n",
        "```\n",
        "\n",
        "---\n",
        "### **4. Creating a Test Dummy Client**\n",
        "\n",
        "To test data transfer between a client and the server, we'll use Python's `requests` library to create a dummy client.\n",
        "\n",
        "First, let's install the necessary library:\n",
        "\n",
        "```python\n",
        "!pip install requests\n",
        "```\n",
        "\n",
        "Now, let's create a simple client to send a GET request to our server:\n",
        "\n",
        "```python\n",
        "import requests\n",
        "\n",
        "response = requests.get(\"http://0.0.0.0:8000/\")\n",
        "print(response.json())\n",
        "```\n",
        "\n",
        "---\n",
        "## **Conclusion**\n",
        "\n",
        "With FastAPI, you can quickly set up server-side applications. Data transfer between the client and server can be effortlessly tested using Python's `requests` library."
      ],
      "metadata": {
        "id": "DFui6T9jPvjw"
      }
    }
  ]
}