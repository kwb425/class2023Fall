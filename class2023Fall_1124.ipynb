{
  "nbformat": 4,
  "nbformat_minor": 0,
  "metadata": {
    "colab": {
      "provenance": [],
      "authorship_tag": "ABX9TyPOYWbevHJRdztpi/Osy6VL",
      "include_colab_link": true
    },
    "kernelspec": {
      "name": "python3",
      "display_name": "Python 3"
    },
    "language_info": {
      "name": "python"
    }
  },
  "cells": [
    {
      "cell_type": "markdown",
      "metadata": {
        "id": "view-in-github",
        "colab_type": "text"
      },
      "source": [
        "<a href=\"https://colab.research.google.com/github/kwb425/class2023Fall/blob/main/class2023Fall_1124.ipynb\" target=\"_parent\"><img src=\"https://colab.research.google.com/assets/colab-badge.svg\" alt=\"Open In Colab\"/></a>"
      ]
    },
    {
      "cell_type": "code",
      "execution_count": null,
      "metadata": {
        "id": "qsmtJtyjYT8A"
      },
      "outputs": [],
      "source": [
        "!pip install gradio transformers requests Pillow"
      ]
    },
    {
      "cell_type": "code",
      "source": [
        "import gradio as gr\n",
        "\n",
        "def custom_sum(first_input: float, second_input: float):\n",
        "  return f'Answer is: {type(first_input)} : {first_input+second_input}'\n",
        "\n",
        "iface = gr.Interface(fn=custom_sum, inputs = [\"number\", \"number\"], outputs = [\"text\"])\n",
        "iface.launch()"
      ],
      "metadata": {
        "id": "VkgznGxC04tf"
      },
      "execution_count": null,
      "outputs": []
    },
    {
      "cell_type": "code",
      "source": [
        "import gradio as gr\n",
        "from transformers import pipeline\n",
        "from PIL import Image\n",
        "import requests\n",
        "from io import BytesIO\n",
        "\n",
        "# Load the model\n",
        "classifier = pipeline(model=\"microsoft/beit-base-patch16-224-pt22k-ft22k\")\n",
        "\n",
        "def classify_image_from_url(url):\n",
        "    response = requests.get(url)\n",
        "    img = Image.open(BytesIO(response.content))\n",
        "    result = classifier(img)\n",
        "    formatted_result = {item['label']: float(item['score']) for item in result}\n",
        "    return formatted_result\n",
        "\n",
        "# Create a Gradio interface\n",
        "interface = gr.Interface(fn=classify_image_from_url, inputs=\"text\", outputs=\"label\")\n",
        "# https://images.unsplash.com/photo-1566847438217-76e82d383f84?w=500&auto=format&fit=crop&q=60&ixlib=rb-4.0.3&ixid=M3wxMjA3fDB8MHxzZWFyY2h8NHx8Y3V0ZSUyMGNhdHxlbnwwfHwwfHx8MA%3D%3D\n",
        "# https://images.unsplash.com/photo-1693218722743-eba71402ab37?w=500&auto=format&fit=crop&q=60&ixlib=rb-4.0.3&ixid=M3wxMjA3fDB8MHxzZWFyY2h8MTR8fGN1dGUlMjBwYXJyb3R8ZW58MHx8MHx8fDA%3D\n",
        "# https://images.unsplash.com/photo-1621543597540-e9be3740352b?w=500&auto=format&fit=crop&q=60&ixlib=rb-4.0.3&ixid=M3wxMjA3fDB8MHxzZWFyY2h8NHx8d29vZCUyMGhvdXNlfGVufDB8fDB8fHww\n",
        "# https://images.unsplash.com/photo-1606770515086-ede533831581?w=500&auto=format&fit=crop&q=60&ixlib=rb-4.0.3&ixid=M3wxMjA3fDB8MHxzZWFyY2h8OHx8c25vd21hbnxlbnwwfHwwfHx8MA%3D%3D\n",
        "# https://images.unsplash.com/uploads/1413387158190559d80f7/6108b580?w=500&auto=format&fit=crop&q=60&ixlib=rb-4.0.3&ixid=M3wxMjA3fDB8MHxzZWFyY2h8Mnx8dHJhaW58ZW58MHx8MHx8fDA%3D\n",
        "# https://images.unsplash.com/photo-1556195332-95503f664ced?w=500&auto=format&fit=crop&q=60&ixlib=rb-4.0.3&ixid=M3wxMjA3fDB8MHxzZWFyY2h8Nnx8bWFnaWN8ZW58MHx8MHx8fDA%3D\n",
        "interface.launch()\n"
      ],
      "metadata": {
        "id": "QO5Iy7yJqscq"
      },
      "execution_count": null,
      "outputs": []
    },
    {
      "cell_type": "code",
      "source": [
        "import gradio as gr\n",
        "from transformers import pipeline\n",
        "\n",
        "# Load the BERT model for mask filling\n",
        "fill_masker = pipeline(model=\"bert-base-uncased\")\n",
        "\n",
        "# Define a function for the Gradio interface\n",
        "def fill_mask(sentence):\n",
        "    results = fill_masker(sentence)\n",
        "    return [{ 'score': result['score'],\n",
        "              'token_str': result['token_str'],\n",
        "              'sequence': result['sequence']} for result in results]\n",
        "\n",
        "# Create a Gradio interface\n",
        "interface = gr.Interface(fn=fill_mask, inputs=\"text\", outputs=\"json\")\n",
        "# The quick brown fox jumps over the deep [MASK].\n",
        "# To make an omelette, you need to break a few [MASK].\n",
        "# In the center of the city, you can find busy [MASK].\n",
        "# The solar system consists of eight planets, including Earth and [MASK].\n",
        "# For his bravery, the knight was awarded a golden [MASK].\n",
        "# We are not now that [MASK], which in old days Moved earth and heaven, that which we are, we are.\n",
        "interface.launch()\n"
      ],
      "metadata": {
        "id": "N8MzknnSv-gZ"
      },
      "execution_count": null,
      "outputs": []
    },
    {
      "cell_type": "code",
      "source": [
        "import gradio as gr\n",
        "from transformers import pipeline\n",
        "from PIL import Image\n",
        "import requests\n",
        "from io import BytesIO\n",
        "\n",
        "# Load the image captioning model\n",
        "captioner = pipeline(model=\"ydshieh/vit-gpt2-coco-en\")\n",
        "\n",
        "# Define a function for the Gradio interface\n",
        "def generate_caption_from_url(url):\n",
        "    response = requests.get(url)\n",
        "    img = Image.open(BytesIO(response.content))\n",
        "    return captioner(img)[0]['generated_text']\n",
        "\n",
        "# Create a Gradio interface\n",
        "interface = gr.Interface(fn=generate_caption_from_url, inputs=\"text\", outputs=\"text\")\n",
        "# https://images.unsplash.com/photo-1566847438217-76e82d383f84?w=500&auto=format&fit=crop&q=60&ixlib=rb-4.0.3&ixid=M3wxMjA3fDB8MHxzZWFyY2h8NHx8Y3V0ZSUyMGNhdHxlbnwwfHwwfHx8MA%3D%3D\n",
        "# https://images.unsplash.com/photo-1693218722743-eba71402ab37?w=500&auto=format&fit=crop&q=60&ixlib=rb-4.0.3&ixid=M3wxMjA3fDB8MHxzZWFyY2h8MTR8fGN1dGUlMjBwYXJyb3R8ZW58MHx8MHx8fDA%3D\n",
        "# https://images.unsplash.com/photo-1700557277193-896271a65773?w=500&auto=format&fit=crop&q=60&ixlib=rb-4.0.3&ixid=M3wxMjA3fDB8MHxlZGl0b3JpYWwtZmVlZHw5fHx8ZW58MHx8fHx8\n",
        "# https://images.unsplash.com/photo-1700496462947-f772a716de6f?w=500&auto=format&fit=crop&q=60&ixlib=rb-4.0.3&ixid=M3wxMjA3fDB8MHxlZGl0b3JpYWwtZmVlZHwxNDN8fHxlbnwwfHx8fHw%3D\n",
        "# https://images.unsplash.com/photo-1493612276216-ee3925520721?w=500&auto=format&fit=crop&q=60&ixlib=rb-4.0.3&ixid=M3wxMjA3fDB8MHxzZWFyY2h8MTF8fGludGVyYWN0aW9ufGVufDB8fDB8fHww\n",
        "# https://images.unsplash.com/photo-1507238691740-187a5b1d37b8?w=500&auto=format&fit=crop&q=60&ixlib=rb-4.0.3&ixid=M3wxMjA3fDB8MHxzZWFyY2h8NDJ8fGludGVyYWN0aW9ufGVufDB8fDB8fHww\n",
        "interface.launch()"
      ],
      "metadata": {
        "id": "Gkkcytm6yUU6"
      },
      "execution_count": null,
      "outputs": []
    },
    {
      "cell_type": "code",
      "source": [
        "\n",
        "import gradio as gr\n",
        "from transformers import pipeline\n",
        "\n",
        "# Load the question-answering model\n",
        "oracle = pipeline(model=\"deepset/roberta-base-squad2\")\n",
        "\n",
        "def answer_question(question, context):\n",
        "    # Generate answer\n",
        "    result = oracle(question=question, context=context)\n",
        "    # Extract the answer\n",
        "    answer = result['answer']\n",
        "    return answer\n",
        "\n",
        "# Create a Gradio interface\n",
        "interface = gr.Interface(\n",
        "    fn=answer_question,\n",
        "    inputs=[\"text\", \"text_area\"],\n",
        "    outputs=\"text\"\n",
        ")\n",
        "# q: Where do I live?\n",
        "# c: My name is Wolfgang and I live in Berlin\n",
        "\n",
        "# q: Who was the first President of the United States?\n",
        "# c: George Washington was an American political leader, military general, statesman, and Founding Father who served as the first President of the United States from 1789 to 1797.\n",
        "\n",
        "# q: What is the main theme of 'To Kill a Mockingbird'?\n",
        "# c: 'To Kill a Mockingbird' is a novel by Harper Lee published in 1960. Instantly successful, widely read in high schools and middle schools in the United States, the novel has become a classic of modern American literature. The plot and characters are loosely based on the author's observations of her family and neighbors, as well as an event that occurred near her hometown in 1936, when she was 10 years old. The novel is renowned for its warmth and humor, despite dealing with serious issues of rape and racial inequality.\n",
        "\n",
        "# q: What is the speed of light?\n",
        "# c: The speed of light in vacuum, commonly denoted c, is a universal physical constant important in many areas of physics. Its exact value is 299,792,458 metres per second.\n",
        "\n",
        "# q: What is the capital of France?\n",
        "# c: France is a country whose territory consists of metropolitan France in Western Europe and several overseas regions and territories. The capital of France is Paris, which is known for its art, history, and culture.\n",
        "\n",
        "# q: Who directed the movie 'Inception'?\n",
        "# c: 'Inception' is a 2010 science fiction action film written and directed by Christopher Nolan, who also produced the film with his wife, Emma Thomas. The film stars Leonardo DiCaprio as a professional thief who steals information by infiltrating the subconscious of his targets.\n",
        "interface.launch()\n",
        "\n",
        "\n"
      ],
      "metadata": {
        "id": "hkcs5D-J2eM0"
      },
      "execution_count": null,
      "outputs": []
    }
  ]
}