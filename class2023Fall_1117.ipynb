{
  "nbformat": 4,
  "nbformat_minor": 0,
  "metadata": {
    "colab": {
      "provenance": [],
      "authorship_tag": "ABX9TyNJg/3WU3rvVpzWwa08YBi8",
      "include_colab_link": true
    },
    "kernelspec": {
      "name": "python3",
      "display_name": "Python 3"
    },
    "language_info": {
      "name": "python"
    }
  },
  "cells": [
    {
      "cell_type": "markdown",
      "metadata": {
        "id": "view-in-github",
        "colab_type": "text"
      },
      "source": [
        "<a href=\"https://colab.research.google.com/github/kwb425/class2023Fall/blob/main/class2023Fall_1117.ipynb\" target=\"_parent\"><img src=\"https://colab.research.google.com/assets/colab-badge.svg\" alt=\"Open In Colab\"/></a>"
      ]
    },
    {
      "cell_type": "code",
      "execution_count": null,
      "metadata": {
        "colab": {
          "base_uri": "https://localhost:8080/"
        },
        "id": "55Ualnc-DVw9",
        "outputId": "4267fc84-12b7-4dcc-a0b8-57942b361a3d"
      },
      "outputs": [
        {
          "output_type": "stream",
          "name": "stdout",
          "text": [
            "1/1 [==============================] - 1s 787ms/step\n",
            "1: valley (0.54)\n",
            "2: lakeside (0.29)\n",
            "3: promontory (0.05)\n",
            "1/1 [==============================] - 1s 1s/step\n",
            "1: promontory (0.43)\n",
            "2: cliff (0.22)\n",
            "3: valley (0.11)\n",
            "1/1 [==============================] - 1s 662ms/step\n",
            "1: Egyptian_cat (0.44)\n",
            "2: tabby (0.25)\n",
            "3: carton (0.05)\n",
            "1/1 [==============================] - 1s 691ms/step\n",
            "1: beagle (0.67)\n",
            "2: Walker_hound (0.14)\n",
            "3: English_foxhound (0.06)\n"
          ]
        }
      ],
      "source": [
        "# Import necessary libraries\n",
        "import numpy as np\n",
        "import tensorflow as tf\n",
        "from tensorflow.keras.preprocessing import image\n",
        "from tensorflow.keras.applications.vgg16 import VGG16, preprocess_input, decode_predictions\n",
        "\n",
        "# Load the pre-trained VGG16 model\n",
        "model = VGG16(weights='imagenet')\n",
        "\n",
        "# Function to predict the class of an image\n",
        "def predict_image_class(image_path):\n",
        "    # Load and preprocess the image\n",
        "    img = image.load_img(image_path, target_size=(224, 224))\n",
        "    img = image.img_to_array(img)\n",
        "    img = np.expand_dims(img, axis=0)\n",
        "    img = preprocess_input(img)\n",
        "\n",
        "    # Make predictions\n",
        "    predictions = model.predict(img)\n",
        "    decoded_predictions = decode_predictions(predictions, top=3)[0]\n",
        "\n",
        "    # Print the top predictions\n",
        "    for i, (imagenet_id, label, score) in enumerate(decoded_predictions):\n",
        "        print(f\"{i + 1}: {label} ({score:.2f})\")\n",
        "\n",
        "\n",
        "# Predict the class of the uploaded image\n",
        "image_filename_0 = \"0.jpg\"\n",
        "image_filename_1 = \"1.jpg\"\n",
        "image_filename_2 = \"2.jpg\"\n",
        "image_filename_3 = \"3.jpg\"\n",
        "predict_image_class(image_filename_0)\n",
        "predict_image_class(image_filename_1)\n",
        "predict_image_class(image_filename_2)\n",
        "predict_image_class(image_filename_3)\n"
      ]
    }
  ]
}