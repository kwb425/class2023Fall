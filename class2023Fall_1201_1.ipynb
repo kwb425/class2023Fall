{
  "nbformat": 4,
  "nbformat_minor": 0,
  "metadata": {
    "colab": {
      "provenance": [],
      "authorship_tag": "ABX9TyMwBKCe2uDkYTk8g51qMi8b",
      "include_colab_link": true
    },
    "kernelspec": {
      "name": "python3",
      "display_name": "Python 3"
    },
    "language_info": {
      "name": "python"
    }
  },
  "cells": [
    {
      "cell_type": "markdown",
      "metadata": {
        "id": "view-in-github",
        "colab_type": "text"
      },
      "source": [
        "<a href=\"https://colab.research.google.com/github/kwb425/class2023Fall/blob/main/class2023Fall_1201_1.ipynb\" target=\"_parent\"><img src=\"https://colab.research.google.com/assets/colab-badge.svg\" alt=\"Open In Colab\"/></a>"
      ]
    },
    {
      "cell_type": "code",
      "execution_count": null,
      "metadata": {
        "id": "iQQALpvv2y_p"
      },
      "outputs": [],
      "source": [
        "!apt-get install libcurl4-openssl-dev"
      ]
    },
    {
      "cell_type": "code",
      "source": [
        "%%writefile RequestLikePython.cpp\n",
        "#include <iostream>\n",
        "#include <curl/curl.h>\n",
        "#include <string>\n",
        "\n",
        "size_t resCallback(void *p_resContents, size_t sizeOneUnit, size_t numUnits, void *p_userBuffer) {\n",
        "    ((std::string*)p_userBuffer)->append((char*)p_resContents, sizeOneUnit * numUnits);\n",
        "    return sizeOneUnit * numUnits;\n",
        "}\n",
        "\n",
        "int main(int argc, char *argv[]) {\n",
        "    if (argc != 2) {\n",
        "        std::cerr << \"Usage: \" << argv[0] << \" <URL>\" << std::endl;\n",
        "        return 1;\n",
        "    }\n",
        "\n",
        "    CURL *p_curl;\n",
        "    CURLcode resCode;\n",
        "    std::string userBuffer;\n",
        "\n",
        "    p_curl = curl_easy_init();\n",
        "    if(p_curl) {\n",
        "        curl_easy_setopt(p_curl, CURLOPT_URL, argv[1]);\n",
        "        curl_easy_setopt(p_curl, CURLOPT_WRITEFUNCTION, resCallback);\n",
        "        curl_easy_setopt(p_curl, CURLOPT_WRITEDATA, &userBuffer);\n",
        "        resCode = curl_easy_perform(p_curl);\n",
        "        curl_easy_cleanup(p_curl);\n",
        "        // Should be filled\n",
        "        std::cout << userBuffer << std::endl;\n",
        "    }\n",
        "    return 0;\n",
        "}\n"
      ],
      "metadata": {
        "id": "n6OYx8P13Ha8"
      },
      "execution_count": null,
      "outputs": []
    },
    {
      "cell_type": "code",
      "source": [
        "!g++ -o crequest RequestLikePython.cpp -lcurl\n",
        "!./crequest https://www.naver.com/"
      ],
      "metadata": {
        "id": "M83S6e273Nya"
      },
      "execution_count": null,
      "outputs": []
    },
    {
      "cell_type": "code",
      "source": [
        "import requests\n",
        "requests.get(\"https://www.naver.com/\").text"
      ],
      "metadata": {
        "id": "bqKlR_-36gZm"
      },
      "execution_count": null,
      "outputs": []
    }
  ]
}