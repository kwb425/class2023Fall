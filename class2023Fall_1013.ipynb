{
  "nbformat": 4,
  "nbformat_minor": 0,
  "metadata": {
    "colab": {
      "provenance": [],
      "authorship_tag": "ABX9TyNUbdxzvnU2C7pW9E6GX7C9",
      "include_colab_link": true
    },
    "kernelspec": {
      "name": "python3",
      "display_name": "Python 3"
    },
    "language_info": {
      "name": "python"
    }
  },
  "cells": [
    {
      "cell_type": "markdown",
      "metadata": {
        "id": "view-in-github",
        "colab_type": "text"
      },
      "source": [
        "<a href=\"https://colab.research.google.com/github/kwb425/class2023Fall/blob/main/class2023Fall_1013.ipynb\" target=\"_parent\"><img src=\"https://colab.research.google.com/assets/colab-badge.svg\" alt=\"Open In Colab\"/></a>"
      ]
    },
    {
      "cell_type": "markdown",
      "source": [
        "---\n",
        "## Lecture 1: Connecting to Databases\n",
        "\n",
        "**Objective:** Learn how to install and connect to databases like MySQL and SQLite using Python.\n",
        "\n",
        "### Introduction\n",
        "- **Why Connect to Databases?**: In data analysis and manipulation, databases serve as repositories for structured data. Connecting to databases allows us to fetch, update, and manage this data programmatically using Python.\n",
        "\n",
        "### Code Demonstration"
      ],
      "metadata": {
        "id": "87czmL6Bpk0V"
      }
    },
    {
      "cell_type": "code",
      "source": [
        "# Install MySQL Server\n",
        "!apt-get update\n",
        "!apt-get install mysql-server\n",
        "\n",
        "# Start the MySQL service\n",
        "!service mysql start"
      ],
      "metadata": {
        "id": "wCyKbPARp-bU"
      },
      "execution_count": null,
      "outputs": []
    },
    {
      "cell_type": "code",
      "source": [
        "# Log in to MySQL as root\n",
        "!mysql -u root"
      ],
      "metadata": {
        "id": "6Ffr8RaIyxHG"
      },
      "execution_count": null,
      "outputs": []
    },
    {
      "cell_type": "markdown",
      "source": [
        "```mysql\n",
        "DROP USER IF EXISTS 'test'@'localhost';\n",
        "CREATE USER 'test'@'localhost' IDENTIFIED WITH 'mysql_native_password' BY '1234';\n",
        "GRANT ALL PRIVILEGES ON *.* TO 'test'@'localhost' WITH GRANT OPTION;\n",
        "FLUSH PRIVILEGES;\n",
        "```"
      ],
      "metadata": {
        "id": "-jHO9XvTtDvS"
      }
    },
    {
      "cell_type": "markdown",
      "source": [
        "```mysql\n",
        "DROP DATABASE IF EXISTS TestDataset;\n",
        "CREATE DATABASE TestDataset;\n",
        "CREATE TABLE TestDataset.TestTable (\n",
        "    ID INT AUTO_INCREMENT PRIMARY KEY,\n",
        "    Name VARCHAR(255),\n",
        "    Age INT\n",
        ");\n",
        "INSERT INTO TestDataset.TestTable (Name, Age) VALUES\n",
        "('John', 30),\n",
        "('Alice', 25),\n",
        "('Bob', 35);\n",
        "exit;\n",
        "```"
      ],
      "metadata": {
        "id": "-l4hzR8bytB_"
      }
    },
    {
      "cell_type": "code",
      "source": [
        "!pip uninstall mysql-connector\n",
        "!pip uninstall mysql-connector-python\n",
        "!pip install mysql-connector-python"
      ],
      "metadata": {
        "id": "dQ_bGQ6Qx2Pc"
      },
      "execution_count": null,
      "outputs": []
    },
    {
      "cell_type": "code",
      "source": [
        "# Import the necessary libraries\n",
        "import mysql.connector\n",
        "\n",
        "# Connect to MySQL\n",
        "mysql_conn = mysql.connector.connect(\n",
        "    host=\"localhost\",  # Database server address\n",
        "    user=\"test\",  # Database username\n",
        "    password=\"1234\",  # User's password\n",
        "    database=\"TestDataset\" # Name of the database\n",
        ")\n"
      ],
      "metadata": {
        "id": "ALdvUalBplGp"
      },
      "execution_count": null,
      "outputs": []
    },
    {
      "cell_type": "markdown",
      "source": [
        "---\n",
        "## Lecture 2: Executing SQL Queries\n",
        "\n",
        "**Objective:** Learn how to execute SQL queries using Python.\n",
        "\n",
        "### Introduction\n",
        "- **Importance of SQL**: SQL (Structured Query Language) is used to interact with databases. Python can be used to execute SQL queries, making it a powerful tool for working with databases.\n",
        "\n",
        "### Code Demonstration"
      ],
      "metadata": {
        "id": "tQU6TsCRo8Nq"
      }
    },
    {
      "cell_type": "code",
      "source": [
        "# Create a cursor object\n",
        "mysql_cursor = mysql_conn.cursor()\n",
        "\n",
        "# Execute SQL queries\n",
        "mysql_cursor.execute(\"SELECT * FROM TestDataset.TestTable\")\n",
        "\n",
        "# Fetch data from the queries\n",
        "mysql_result = mysql_cursor.fetchall()\n",
        "\n",
        "print(mysql_result)"
      ],
      "metadata": {
        "id": "1ozq4u45psK5"
      },
      "execution_count": null,
      "outputs": []
    },
    {
      "cell_type": "markdown",
      "source": [
        "\n",
        "---\n",
        "## Lecture 3: CRUD Operations\n",
        "\n",
        "**Objective:** Learn how to perform CRUD operations (Create, Read, Update, Delete) on a database using Python.\n",
        "\n",
        "### Introduction\n",
        "- **CRUD Operations**: CRUD stands for Create, Read, Update, and Delete. These are fundamental database operations used to manipulate data within a database.\n",
        "\n",
        "### Code Demonstration"
      ],
      "metadata": {
        "id": "z8BMDJ8NptFG"
      }
    },
    {
      "cell_type": "code",
      "source": [
        "# CREATE: Insert a new record\n",
        "mysql_cursor.execute(\"INSERT INTO TestDataset.TestTable (Name, Age) VALUES (%s, %s)\", (\"John Doe\", 30))\n",
        "mysql_conn.commit()\n",
        "mysql_cursor.execute(\"SELECT * FROM TestDataset.TestTable\")\n",
        "mysql_result = mysql_cursor.fetchall()\n",
        "print(f\"CREATE example: {mysql_result}\")\n",
        "\n",
        "# READ: Retrieve data\n",
        "mysql_cursor.execute(\"SELECT * FROM TestDataset.TestTable WHERE Name = 'John Doe'\")\n",
        "mysql_result = mysql_cursor.fetchone()\n",
        "print(f\"READ example: {mysql_result}\")\n",
        "\n",
        "\n",
        "# UPDATE: Update existing data\n",
        "mysql_cursor.execute(\"UPDATE TestDataset.TestTable SET Age = 31 WHERE Name = 'John Doe'\")\n",
        "mysql_conn.commit()\n",
        "mysql_cursor.execute(\"SELECT * FROM TestDataset.TestTable\")\n",
        "mysql_result = mysql_cursor.fetchall()\n",
        "print(f\"UPDATE example: {mysql_result}\")\n",
        "\n",
        "\n",
        "# DELETE: Delete data\n",
        "mysql_cursor.execute(\"DELETE FROM TestDataset.TestTable WHERE Name = 'John Doe'\")\n",
        "mysql_conn.commit()\n",
        "mysql_cursor.execute(\"SELECT * FROM TestDataset.TestTable\")\n",
        "mysql_result = mysql_cursor.fetchall()\n",
        "print(f\"DELETE example: {mysql_result}\")\n"
      ],
      "metadata": {
        "id": "JmWHwt8Hz3uJ"
      },
      "execution_count": null,
      "outputs": []
    },
    {
      "cell_type": "markdown",
      "source": [
        "---\n",
        "## Lecture 4: Working with Database Libraries\n",
        "\n",
        "**Objective:** Learn how to work with data using database libraries in Python.\n",
        "\n",
        "### Introduction\n",
        "- **Python Libraries**: Python offers several libraries and tools for data manipulation and analysis. We can leverage these libraries to work with database data effectively.\n",
        "\n",
        "### Code Demonstration\n"
      ],
      "metadata": {
        "id": "mWTzIhivz5-f"
      }
    },
    {
      "cell_type": "code",
      "source": [
        "# Using pandas for data manipulation\n",
        "import pandas as pd\n",
        "\n",
        "# Retrieve data from the database and create a DataFrame\n",
        "mysql_cursor.execute(\"SELECT * FROM TestDataset.TestTable\")\n",
        "data = mysql_cursor.fetchall()\n",
        "df = pd.DataFrame(data, columns=[\"ID\", \"Name\", \"Age\"])\n",
        "\n",
        "# Perform data analysis with pandas\n",
        "average_age = df[\"Age\"].mean()\n",
        "print(average_age)"
      ],
      "metadata": {
        "id": "nBKkwKs60lOz"
      },
      "execution_count": null,
      "outputs": []
    }
  ]
}